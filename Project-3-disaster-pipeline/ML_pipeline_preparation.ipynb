{
 "cells": [
  {
   "cell_type": "markdown",
   "metadata": {},
   "source": [
    "# ML Pipeline Preparation\n",
    "Follow the instructions below to help you create your ML pipeline.\n",
    "### 1. Import libraries and load data from database.\n",
    "- Import Python libraries\n",
    "- Load dataset from database with [`read_sql_table`](https://pandas.pydata.org/pandas-docs/stable/generated/pandas.read_sql_table.html)\n",
    "- Define feature and target variables X and Y"
   ]
  },
  {
   "cell_type": "code",
   "execution_count": 20,
   "metadata": {},
   "outputs": [
    {
     "name": "stderr",
     "output_type": "stream",
     "text": [
      "[nltk_data] Downloading package punkt to\n",
      "[nltk_data]     C:\\Users\\xwen2\\AppData\\Roaming\\nltk_data...\n",
      "[nltk_data]   Package punkt is already up-to-date!\n",
      "[nltk_data] Downloading package wordnet to\n",
      "[nltk_data]     C:\\Users\\xwen2\\AppData\\Roaming\\nltk_data...\n",
      "[nltk_data]   Package wordnet is already up-to-date!\n",
      "[nltk_data] Downloading package stopwords to\n",
      "[nltk_data]     C:\\Users\\xwen2\\AppData\\Roaming\\nltk_data...\n",
      "[nltk_data]   Package stopwords is already up-to-date!\n"
     ]
    },
    {
     "data": {
      "text/plain": [
       "True"
      ]
     },
     "execution_count": 20,
     "metadata": {},
     "output_type": "execute_result"
    }
   ],
   "source": [
    "# import libraries\n",
    "import re\n",
    "import pickle\n",
    "import pandas as pd\n",
    "import numpy as np\n",
    "from sqlalchemy import create_engine\n",
    "\n",
    "import nltk\n",
    "from nltk.corpus import stopwords\n",
    "from nltk.tokenize import word_tokenize\n",
    "from nltk.stem import WordNetLemmatizer\n",
    "from nltk.stem.porter import PorterStemmer\n",
    "\n",
    "from sklearn.pipeline import Pipeline\n",
    "from sklearn.preprocessing import OneHotEncoder\n",
    "from sklearn.metrics import f1_score\n",
    "from sklearn.metrics import accuracy_score\n",
    "from sklearn.model_selection import GridSearchCV\n",
    "from sklearn.tree import DecisionTreeClassifier\n",
    "from sklearn.metrics import classification_report\n",
    "from sklearn.ensemble import RandomForestClassifier\n",
    "from sklearn.model_selection import train_test_split\n",
    "from sklearn.multioutput import MultiOutputClassifier\n",
    "from sklearn.multiclass import OneVsRestClassifier\n",
    "from sklearn.multioutput import MultiOutputClassifier\n",
    "from sklearn.svm import LinearSVC\n",
    "from sklearn.feature_extraction.text import CountVectorizer, TfidfTransformer\n",
    "\n",
    "nltk.download('punkt')\n",
    "nltk.download('wordnet')\n",
    "nltk.download('stopwords')"
   ]
  },
  {
   "cell_type": "code",
   "execution_count": 25,
   "metadata": {},
   "outputs": [],
   "source": [
    "# load data from database\n",
    "engine = create_engine('sqlite:///InsertDatabaseName.db')\n",
    "\n",
    "df = pd.read_sql_table('InsertTableName', engine)\n",
    "\n",
    "X = df['message']\n",
    "Y = df.iloc[:,4:]\n",
    "\n",
    "Y['related']=Y['related'].map(lambda x: 1 if x == 2 else x)\n",
    "\n",
    "category_names = Y.columns"
   ]
  },
  {
   "cell_type": "markdown",
   "metadata": {},
   "source": [
    "### 2. Write a tokenization function to process your text data"
   ]
  },
  {
   "cell_type": "code",
   "execution_count": 26,
   "metadata": {},
   "outputs": [
    {
     "name": "stdout",
     "output_type": "stream",
     "text": [
      "['student', 'vince']\n"
     ]
    }
   ],
   "source": [
    "def tokenize(text):\n",
    "    stop_words = stopwords.words(\"english\")\n",
    "    lemmatizer = WordNetLemmatizer()\n",
    "    \n",
    "    # normalize case and remove punctuation\n",
    "    text = re.sub(r\"[^a-zA-Z0-9]\", \" \", text.lower())\n",
    "    \n",
    "    # tokenize text\n",
    "    tokens = word_tokenize(text)\n",
    "    \n",
    "    # lemmatize andremove stop words\n",
    "    tokens = [lemmatizer.lemmatize(word) for word in tokens if word not in stop_words]\n",
    "\n",
    "    return tokens\n",
    "\n",
    "sentence = 'I am a student, Vince!'\n",
    "print(tokenize(sentence))"
   ]
  },
  {
   "cell_type": "markdown",
   "metadata": {},
   "source": [
    "### 3. Build a machine learning pipeline\n",
    "This machine pipeline should take in the `message` column as input and output classification results on the other 36 categories in the dataset. You may find the [MultiOutputClassifier](http://scikit-learn.org/stable/modules/generated/sklearn.multioutput.MultiOutputClassifier.html) helpful for predicting multiple target variables."
   ]
  },
  {
   "cell_type": "code",
   "execution_count": 47,
   "metadata": {},
   "outputs": [],
   "source": [
    "pipeline = Pipeline([\n",
    "    ('vect', CountVectorizer(tokenizer = tokenize)),\n",
    "    ('tfidf', TfidfTransformer()),\n",
    "    #('clf', MultiOutputClassifier(DecisionTreeClassifier(random_state = 42), n_jobs = -1))\n",
    "    ('clf', MultiOutputClassifier(OneVsRestClassifier(LinearSVC())))\n",
    "])"
   ]
  },
  {
   "cell_type": "markdown",
   "metadata": {},
   "source": [
    "### 4. Train pipeline\n",
    "- Split data into train and test sets\n",
    "- Train pipeline"
   ]
  },
  {
   "cell_type": "code",
   "execution_count": 48,
   "metadata": {},
   "outputs": [
    {
     "name": "stderr",
     "output_type": "stream",
     "text": [
      "C:\\Users\\xwen2\\Anaconda3\\lib\\site-packages\\sklearn\\multiclass.py:75: UserWarning: Label not 0 is present in all training examples.\n",
      "  str(classes[c]))\n"
     ]
    },
    {
     "data": {
      "text/plain": [
       "Pipeline(memory=None,\n",
       "         steps=[('vect',\n",
       "                 CountVectorizer(analyzer='word', binary=False,\n",
       "                                 decode_error='strict',\n",
       "                                 dtype=<class 'numpy.int64'>, encoding='utf-8',\n",
       "                                 input='content', lowercase=True, max_df=1.0,\n",
       "                                 max_features=None, min_df=1,\n",
       "                                 ngram_range=(1, 1), preprocessor=None,\n",
       "                                 stop_words=None, strip_accents=None,\n",
       "                                 token_pattern='(?u)\\\\b\\\\w\\\\w+\\\\b',\n",
       "                                 tokenizer=<function tokenize at...\n",
       "                 TfidfTransformer(norm='l2', smooth_idf=True,\n",
       "                                  sublinear_tf=False, use_idf=True)),\n",
       "                ('clf',\n",
       "                 MultiOutputClassifier(estimator=OneVsRestClassifier(estimator=LinearSVC(C=1.0,\n",
       "                                                                                         class_weight=None,\n",
       "                                                                                         dual=True,\n",
       "                                                                                         fit_intercept=True,\n",
       "                                                                                         intercept_scaling=1,\n",
       "                                                                                         loss='squared_hinge',\n",
       "                                                                                         max_iter=1000,\n",
       "                                                                                         multi_class='ovr',\n",
       "                                                                                         penalty='l2',\n",
       "                                                                                         random_state=None,\n",
       "                                                                                         tol=0.0001,\n",
       "                                                                                         verbose=0),\n",
       "                                                                     n_jobs=None),\n",
       "                                       n_jobs=None))],\n",
       "         verbose=False)"
      ]
     },
     "execution_count": 48,
     "metadata": {},
     "output_type": "execute_result"
    }
   ],
   "source": [
    "X_train, X_test, Y_train, Y_test = train_test_split(X, Y, test_size = 0.2, random_state = 42)\n",
    "pipeline.fit(X_train, y_train)"
   ]
  },
  {
   "cell_type": "markdown",
   "metadata": {},
   "source": [
    "### 5. Test your model\n",
    "Report the f1 score, precision and recall for each output category of the dataset. You can do this by iterating through the columns and calling sklearn's `classification_report` on each."
   ]
  },
  {
   "cell_type": "code",
   "execution_count": 49,
   "metadata": {},
   "outputs": [
    {
     "name": "stdout",
     "output_type": "stream",
     "text": [
      "                        precision    recall  f1-score   support\n",
      "\n",
      "               related       0.77      0.91      0.83      3993\n",
      "               request       0.39      0.19      0.25       883\n",
      "                 offer       0.00      0.00      0.00        24\n",
      "           aid_related       0.44      0.37      0.40      2150\n",
      "          medical_help       0.11      0.01      0.01       419\n",
      "      medical_products       0.00      0.00      0.00       256\n",
      "     search_and_rescue       0.00      0.00      0.00       138\n",
      "              security       0.00      0.00      0.00       108\n",
      "              military       0.14      0.01      0.01       171\n",
      "           child_alone       0.00      0.00      0.00         0\n",
      "                 water       0.07      0.00      0.01       316\n",
      "                  food       0.21      0.04      0.06       564\n",
      "               shelter       0.24      0.01      0.03       468\n",
      "              clothing       0.00      0.00      0.00        85\n",
      "                 money       0.00      0.00      0.00       120\n",
      "        missing_people       0.00      0.00      0.00        67\n",
      "              refugees       0.00      0.00      0.00       200\n",
      "                 death       0.00      0.00      0.00       243\n",
      "             other_aid       0.12      0.02      0.03       671\n",
      "infrastructure_related       0.08      0.00      0.01       347\n",
      "             transport       0.00      0.00      0.00       255\n",
      "             buildings       0.20      0.01      0.01       271\n",
      "           electricity       0.00      0.00      0.00       112\n",
      "                 tools       0.00      0.00      0.00        28\n",
      "             hospitals       0.00      0.00      0.00        60\n",
      "                 shops       0.00      0.00      0.00        17\n",
      "           aid_centers       0.00      0.00      0.00        64\n",
      "  other_infrastructure       0.11      0.00      0.01       242\n",
      "       weather_related       0.44      0.27      0.33      1456\n",
      "                floods       0.25      0.03      0.06       448\n",
      "                 storm       0.39      0.11      0.17       507\n",
      "                  fire       0.00      0.00      0.00        54\n",
      "            earthquake       0.60      0.16      0.26       475\n",
      "                  cold       0.00      0.00      0.00       101\n",
      "         other_weather       0.00      0.00      0.00       265\n",
      "         direct_report       0.33      0.15      0.21      1001\n",
      "\n",
      "             micro avg       0.59      0.32      0.42     16579\n",
      "             macro avg       0.14      0.06      0.07     16579\n",
      "          weighted avg       0.39      0.32      0.33     16579\n",
      "           samples avg       0.59      0.36      0.38     16579\n",
      "\n",
      "Accuracy: 0.9210013141718598\n"
     ]
    },
    {
     "name": "stderr",
     "output_type": "stream",
     "text": [
      "C:\\Users\\xwen2\\Anaconda3\\lib\\site-packages\\sklearn\\metrics\\_classification.py:1268: UndefinedMetricWarning: Precision and F-score are ill-defined and being set to 0.0 in labels with no predicted samples. Use `zero_division` parameter to control this behavior.\n",
      "  _warn_prf(average, modifier, msg_start, len(result))\n",
      "C:\\Users\\xwen2\\Anaconda3\\lib\\site-packages\\sklearn\\metrics\\_classification.py:1268: UndefinedMetricWarning: Recall and F-score are ill-defined and being set to 0.0 in labels with no true samples. Use `zero_division` parameter to control this behavior.\n",
      "  _warn_prf(average, modifier, msg_start, len(result))\n",
      "C:\\Users\\xwen2\\Anaconda3\\lib\\site-packages\\sklearn\\metrics\\_classification.py:1268: UndefinedMetricWarning: Precision and F-score are ill-defined and being set to 0.0 in samples with no predicted labels. Use `zero_division` parameter to control this behavior.\n",
      "  _warn_prf(average, modifier, msg_start, len(result))\n",
      "C:\\Users\\xwen2\\Anaconda3\\lib\\site-packages\\sklearn\\metrics\\_classification.py:1268: UndefinedMetricWarning: Recall and F-score are ill-defined and being set to 0.0 in samples with no true labels. Use `zero_division` parameter to control this behavior.\n",
      "  _warn_prf(average, modifier, msg_start, len(result))\n"
     ]
    }
   ],
   "source": [
    "y_pred = pipeline.predict(X_test)\n",
    "print(classification_report(Y_test.values, y_pred, target_names=category_names))\n",
    "print('Accuracy: {}'.format(np.mean(Y_test.values == y_pred)))"
   ]
  },
  {
   "cell_type": "markdown",
   "metadata": {},
   "source": [
    "### 6. Improve your model\n",
    "Use grid search to find better parameters. "
   ]
  },
  {
   "cell_type": "code",
   "execution_count": 50,
   "metadata": {},
   "outputs": [
    {
     "data": {
      "text/plain": [
       "{'memory': None,\n",
       " 'steps': [('vect',\n",
       "   CountVectorizer(analyzer='word', binary=False, decode_error='strict',\n",
       "                   dtype=<class 'numpy.int64'>, encoding='utf-8', input='content',\n",
       "                   lowercase=True, max_df=1.0, max_features=None, min_df=1,\n",
       "                   ngram_range=(1, 1), preprocessor=None, stop_words=None,\n",
       "                   strip_accents=None, token_pattern='(?u)\\\\b\\\\w\\\\w+\\\\b',\n",
       "                   tokenizer=<function tokenize at 0x00000153B0B2DC80>,\n",
       "                   vocabulary=None)),\n",
       "  ('tfidf',\n",
       "   TfidfTransformer(norm='l2', smooth_idf=True, sublinear_tf=False, use_idf=True)),\n",
       "  ('clf',\n",
       "   MultiOutputClassifier(estimator=OneVsRestClassifier(estimator=LinearSVC(C=1.0,\n",
       "                                                                           class_weight=None,\n",
       "                                                                           dual=True,\n",
       "                                                                           fit_intercept=True,\n",
       "                                                                           intercept_scaling=1,\n",
       "                                                                           loss='squared_hinge',\n",
       "                                                                           max_iter=1000,\n",
       "                                                                           multi_class='ovr',\n",
       "                                                                           penalty='l2',\n",
       "                                                                           random_state=None,\n",
       "                                                                           tol=0.0001,\n",
       "                                                                           verbose=0),\n",
       "                                                       n_jobs=None),\n",
       "                         n_jobs=None))],\n",
       " 'verbose': False,\n",
       " 'vect': CountVectorizer(analyzer='word', binary=False, decode_error='strict',\n",
       "                 dtype=<class 'numpy.int64'>, encoding='utf-8', input='content',\n",
       "                 lowercase=True, max_df=1.0, max_features=None, min_df=1,\n",
       "                 ngram_range=(1, 1), preprocessor=None, stop_words=None,\n",
       "                 strip_accents=None, token_pattern='(?u)\\\\b\\\\w\\\\w+\\\\b',\n",
       "                 tokenizer=<function tokenize at 0x00000153B0B2DC80>,\n",
       "                 vocabulary=None),\n",
       " 'tfidf': TfidfTransformer(norm='l2', smooth_idf=True, sublinear_tf=False, use_idf=True),\n",
       " 'clf': MultiOutputClassifier(estimator=OneVsRestClassifier(estimator=LinearSVC(C=1.0,\n",
       "                                                                         class_weight=None,\n",
       "                                                                         dual=True,\n",
       "                                                                         fit_intercept=True,\n",
       "                                                                         intercept_scaling=1,\n",
       "                                                                         loss='squared_hinge',\n",
       "                                                                         max_iter=1000,\n",
       "                                                                         multi_class='ovr',\n",
       "                                                                         penalty='l2',\n",
       "                                                                         random_state=None,\n",
       "                                                                         tol=0.0001,\n",
       "                                                                         verbose=0),\n",
       "                                                     n_jobs=None),\n",
       "                       n_jobs=None),\n",
       " 'vect__analyzer': 'word',\n",
       " 'vect__binary': False,\n",
       " 'vect__decode_error': 'strict',\n",
       " 'vect__dtype': numpy.int64,\n",
       " 'vect__encoding': 'utf-8',\n",
       " 'vect__input': 'content',\n",
       " 'vect__lowercase': True,\n",
       " 'vect__max_df': 1.0,\n",
       " 'vect__max_features': None,\n",
       " 'vect__min_df': 1,\n",
       " 'vect__ngram_range': (1, 1),\n",
       " 'vect__preprocessor': None,\n",
       " 'vect__stop_words': None,\n",
       " 'vect__strip_accents': None,\n",
       " 'vect__token_pattern': '(?u)\\\\b\\\\w\\\\w+\\\\b',\n",
       " 'vect__tokenizer': <function __main__.tokenize(text)>,\n",
       " 'vect__vocabulary': None,\n",
       " 'tfidf__norm': 'l2',\n",
       " 'tfidf__smooth_idf': True,\n",
       " 'tfidf__sublinear_tf': False,\n",
       " 'tfidf__use_idf': True,\n",
       " 'clf__estimator__estimator__C': 1.0,\n",
       " 'clf__estimator__estimator__class_weight': None,\n",
       " 'clf__estimator__estimator__dual': True,\n",
       " 'clf__estimator__estimator__fit_intercept': True,\n",
       " 'clf__estimator__estimator__intercept_scaling': 1,\n",
       " 'clf__estimator__estimator__loss': 'squared_hinge',\n",
       " 'clf__estimator__estimator__max_iter': 1000,\n",
       " 'clf__estimator__estimator__multi_class': 'ovr',\n",
       " 'clf__estimator__estimator__penalty': 'l2',\n",
       " 'clf__estimator__estimator__random_state': None,\n",
       " 'clf__estimator__estimator__tol': 0.0001,\n",
       " 'clf__estimator__estimator__verbose': 0,\n",
       " 'clf__estimator__estimator': LinearSVC(C=1.0, class_weight=None, dual=True, fit_intercept=True,\n",
       "           intercept_scaling=1, loss='squared_hinge', max_iter=1000,\n",
       "           multi_class='ovr', penalty='l2', random_state=None, tol=0.0001,\n",
       "           verbose=0),\n",
       " 'clf__estimator__n_jobs': None,\n",
       " 'clf__estimator': OneVsRestClassifier(estimator=LinearSVC(C=1.0, class_weight=None, dual=True,\n",
       "                                         fit_intercept=True, intercept_scaling=1,\n",
       "                                         loss='squared_hinge', max_iter=1000,\n",
       "                                         multi_class='ovr', penalty='l2',\n",
       "                                         random_state=None, tol=0.0001,\n",
       "                                         verbose=0),\n",
       "                     n_jobs=None),\n",
       " 'clf__n_jobs': None}"
      ]
     },
     "execution_count": 50,
     "metadata": {},
     "output_type": "execute_result"
    }
   ],
   "source": [
    "pipeline.get_params()"
   ]
  },
  {
   "cell_type": "code",
   "execution_count": 53,
   "metadata": {},
   "outputs": [],
   "source": [
    "'''\n",
    "parameters = {\n",
    "    'vect__min_df': [1],\n",
    "    'vect__lowercase': [False],\n",
    "    'tfidf__smooth_idf': [False],\n",
    "}\n",
    "\n",
    "model = GridSearchCV(pipeline, param_grid = parameters, cv = 2)\n",
    "'''\n",
    "\n",
    "pipeline = Pipeline([('vect', CountVectorizer(tokenizer=tokenize)),\n",
    "                     ('tfidf', TfidfTransformer()),\n",
    "                     ('clf', MultiOutputClassifier(OneVsRestClassifier(LinearSVC())))\n",
    "                    ])\n",
    "\n",
    "# hyper-parameter grid\n",
    "parameters = {'vect__ngram_range': ((1, 1), (1, 2)),\n",
    "              'vect__max_df': (0.75, 1.0)\n",
    "             }\n",
    "\n",
    "# create model\n",
    "model = GridSearchCV(estimator=pipeline, param_grid=parameters, verbose=3, cv=3)"
   ]
  },
  {
   "cell_type": "markdown",
   "metadata": {},
   "source": [
    "### 7. Test your model\n",
    "Show the accuracy, precision, and recall of the tuned model.  \n",
    "\n",
    "Since this project focuses on code quality, process, and  pipelines, there is no minimum performance metric needed to pass. However, make sure to fine tune your models for accuracy, precision and recall to make your project stand out - especially for your portfolio!"
   ]
  },
  {
   "cell_type": "code",
   "execution_count": 54,
   "metadata": {},
   "outputs": [
    {
     "name": "stdout",
     "output_type": "stream",
     "text": [
      "Fitting 3 folds for each of 4 candidates, totalling 12 fits\n",
      "[CV] vect__max_df=0.75, vect__ngram_range=(1, 1) .....................\n"
     ]
    },
    {
     "name": "stderr",
     "output_type": "stream",
     "text": [
      "[Parallel(n_jobs=1)]: Using backend SequentialBackend with 1 concurrent workers.\n",
      "C:\\Users\\xwen2\\Anaconda3\\lib\\site-packages\\sklearn\\multiclass.py:75: UserWarning: Label not 0 is present in all training examples.\n",
      "  str(classes[c]))\n"
     ]
    },
    {
     "name": "stdout",
     "output_type": "stream",
     "text": [
      "[CV]  vect__max_df=0.75, vect__ngram_range=(1, 1), score=0.118, total=  11.0s\n",
      "[CV] vect__max_df=0.75, vect__ngram_range=(1, 1) .....................\n"
     ]
    },
    {
     "name": "stderr",
     "output_type": "stream",
     "text": [
      "[Parallel(n_jobs=1)]: Done   1 out of   1 | elapsed:   10.9s remaining:    0.0s\n",
      "C:\\Users\\xwen2\\Anaconda3\\lib\\site-packages\\sklearn\\multiclass.py:75: UserWarning: Label not 0 is present in all training examples.\n",
      "  str(classes[c]))\n"
     ]
    },
    {
     "name": "stdout",
     "output_type": "stream",
     "text": [
      "[CV]  vect__max_df=0.75, vect__ngram_range=(1, 1), score=0.123, total=  11.0s\n",
      "[CV] vect__max_df=0.75, vect__ngram_range=(1, 1) .....................\n"
     ]
    },
    {
     "name": "stderr",
     "output_type": "stream",
     "text": [
      "[Parallel(n_jobs=1)]: Done   2 out of   2 | elapsed:   22.0s remaining:    0.0s\n",
      "C:\\Users\\xwen2\\Anaconda3\\lib\\site-packages\\sklearn\\multiclass.py:75: UserWarning: Label not 0 is present in all training examples.\n",
      "  str(classes[c]))\n"
     ]
    },
    {
     "name": "stdout",
     "output_type": "stream",
     "text": [
      "[CV]  vect__max_df=0.75, vect__ngram_range=(1, 1), score=0.114, total=  11.0s\n",
      "[CV] vect__max_df=0.75, vect__ngram_range=(1, 2) .....................\n"
     ]
    },
    {
     "name": "stderr",
     "output_type": "stream",
     "text": [
      "C:\\Users\\xwen2\\Anaconda3\\lib\\site-packages\\sklearn\\multiclass.py:75: UserWarning: Label not 0 is present in all training examples.\n",
      "  str(classes[c]))\n"
     ]
    },
    {
     "name": "stdout",
     "output_type": "stream",
     "text": [
      "[CV]  vect__max_df=0.75, vect__ngram_range=(1, 2), score=0.129, total=  13.0s\n",
      "[CV] vect__max_df=0.75, vect__ngram_range=(1, 2) .....................\n"
     ]
    },
    {
     "name": "stderr",
     "output_type": "stream",
     "text": [
      "C:\\Users\\xwen2\\Anaconda3\\lib\\site-packages\\sklearn\\multiclass.py:75: UserWarning: Label not 0 is present in all training examples.\n",
      "  str(classes[c]))\n"
     ]
    },
    {
     "name": "stdout",
     "output_type": "stream",
     "text": [
      "[CV]  vect__max_df=0.75, vect__ngram_range=(1, 2), score=0.131, total=  13.1s\n",
      "[CV] vect__max_df=0.75, vect__ngram_range=(1, 2) .....................\n"
     ]
    },
    {
     "name": "stderr",
     "output_type": "stream",
     "text": [
      "C:\\Users\\xwen2\\Anaconda3\\lib\\site-packages\\sklearn\\multiclass.py:75: UserWarning: Label not 0 is present in all training examples.\n",
      "  str(classes[c]))\n"
     ]
    },
    {
     "name": "stdout",
     "output_type": "stream",
     "text": [
      "[CV]  vect__max_df=0.75, vect__ngram_range=(1, 2), score=0.125, total=  13.2s\n",
      "[CV] vect__max_df=1.0, vect__ngram_range=(1, 1) ......................\n"
     ]
    },
    {
     "name": "stderr",
     "output_type": "stream",
     "text": [
      "C:\\Users\\xwen2\\Anaconda3\\lib\\site-packages\\sklearn\\multiclass.py:75: UserWarning: Label not 0 is present in all training examples.\n",
      "  str(classes[c]))\n"
     ]
    },
    {
     "name": "stdout",
     "output_type": "stream",
     "text": [
      "[CV]  vect__max_df=1.0, vect__ngram_range=(1, 1), score=0.118, total=  11.3s\n",
      "[CV] vect__max_df=1.0, vect__ngram_range=(1, 1) ......................\n"
     ]
    },
    {
     "name": "stderr",
     "output_type": "stream",
     "text": [
      "C:\\Users\\xwen2\\Anaconda3\\lib\\site-packages\\sklearn\\multiclass.py:75: UserWarning: Label not 0 is present in all training examples.\n",
      "  str(classes[c]))\n"
     ]
    },
    {
     "name": "stdout",
     "output_type": "stream",
     "text": [
      "[CV]  vect__max_df=1.0, vect__ngram_range=(1, 1), score=0.123, total=  11.4s\n",
      "[CV] vect__max_df=1.0, vect__ngram_range=(1, 1) ......................\n"
     ]
    },
    {
     "name": "stderr",
     "output_type": "stream",
     "text": [
      "C:\\Users\\xwen2\\Anaconda3\\lib\\site-packages\\sklearn\\multiclass.py:75: UserWarning: Label not 0 is present in all training examples.\n",
      "  str(classes[c]))\n"
     ]
    },
    {
     "name": "stdout",
     "output_type": "stream",
     "text": [
      "[CV]  vect__max_df=1.0, vect__ngram_range=(1, 1), score=0.114, total=  11.3s\n",
      "[CV] vect__max_df=1.0, vect__ngram_range=(1, 2) ......................\n"
     ]
    },
    {
     "name": "stderr",
     "output_type": "stream",
     "text": [
      "C:\\Users\\xwen2\\Anaconda3\\lib\\site-packages\\sklearn\\multiclass.py:75: UserWarning: Label not 0 is present in all training examples.\n",
      "  str(classes[c]))\n"
     ]
    },
    {
     "name": "stdout",
     "output_type": "stream",
     "text": [
      "[CV]  vect__max_df=1.0, vect__ngram_range=(1, 2), score=0.129, total=  13.4s\n",
      "[CV] vect__max_df=1.0, vect__ngram_range=(1, 2) ......................\n"
     ]
    },
    {
     "name": "stderr",
     "output_type": "stream",
     "text": [
      "C:\\Users\\xwen2\\Anaconda3\\lib\\site-packages\\sklearn\\multiclass.py:75: UserWarning: Label not 0 is present in all training examples.\n",
      "  str(classes[c]))\n"
     ]
    },
    {
     "name": "stdout",
     "output_type": "stream",
     "text": [
      "[CV]  vect__max_df=1.0, vect__ngram_range=(1, 2), score=0.131, total=  13.3s\n",
      "[CV] vect__max_df=1.0, vect__ngram_range=(1, 2) ......................\n"
     ]
    },
    {
     "name": "stderr",
     "output_type": "stream",
     "text": [
      "C:\\Users\\xwen2\\Anaconda3\\lib\\site-packages\\sklearn\\multiclass.py:75: UserWarning: Label not 0 is present in all training examples.\n",
      "  str(classes[c]))\n"
     ]
    },
    {
     "name": "stdout",
     "output_type": "stream",
     "text": [
      "[CV]  vect__max_df=1.0, vect__ngram_range=(1, 2), score=0.125, total=  12.9s\n"
     ]
    },
    {
     "name": "stderr",
     "output_type": "stream",
     "text": [
      "[Parallel(n_jobs=1)]: Done  12 out of  12 | elapsed:  2.4min finished\n",
      "C:\\Users\\xwen2\\Anaconda3\\lib\\site-packages\\sklearn\\multiclass.py:75: UserWarning: Label not 0 is present in all training examples.\n",
      "  str(classes[c]))\n"
     ]
    },
    {
     "data": {
      "text/plain": [
       "GridSearchCV(cv=3, error_score=nan,\n",
       "             estimator=Pipeline(memory=None,\n",
       "                                steps=[('vect',\n",
       "                                        CountVectorizer(analyzer='word',\n",
       "                                                        binary=False,\n",
       "                                                        decode_error='strict',\n",
       "                                                        dtype=<class 'numpy.int64'>,\n",
       "                                                        encoding='utf-8',\n",
       "                                                        input='content',\n",
       "                                                        lowercase=True,\n",
       "                                                        max_df=1.0,\n",
       "                                                        max_features=None,\n",
       "                                                        min_df=1,\n",
       "                                                        ngram_range=(1, 1),\n",
       "                                                        preprocessor=None,\n",
       "                                                        stop_words=None,\n",
       "                                                        strip_accents=None,\n",
       "                                                        token_pattern='(?u)...\n",
       "                                                                                                                intercept_scaling=1,\n",
       "                                                                                                                loss='squared_hinge',\n",
       "                                                                                                                max_iter=1000,\n",
       "                                                                                                                multi_class='ovr',\n",
       "                                                                                                                penalty='l2',\n",
       "                                                                                                                random_state=None,\n",
       "                                                                                                                tol=0.0001,\n",
       "                                                                                                                verbose=0),\n",
       "                                                                                            n_jobs=None),\n",
       "                                                              n_jobs=None))],\n",
       "                                verbose=False),\n",
       "             iid='deprecated', n_jobs=None,\n",
       "             param_grid={'vect__max_df': (0.75, 1.0),\n",
       "                         'vect__ngram_range': ((1, 1), (1, 2))},\n",
       "             pre_dispatch='2*n_jobs', refit=True, return_train_score=False,\n",
       "             scoring=None, verbose=3)"
      ]
     },
     "execution_count": 54,
     "metadata": {},
     "output_type": "execute_result"
    }
   ],
   "source": [
    "model.fit(X_train, y_train)"
   ]
  },
  {
   "cell_type": "markdown",
   "metadata": {},
   "source": [
    "### 8. Try improving your model further. Here are a few ideas:\n",
    "* try other machine learning algorithms\n",
    "* add other features besides the TF-IDF"
   ]
  },
  {
   "cell_type": "code",
   "execution_count": 55,
   "metadata": {},
   "outputs": [
    {
     "data": {
      "text/plain": [
       "0.12811826112443334"
      ]
     },
     "execution_count": 55,
     "metadata": {},
     "output_type": "execute_result"
    }
   ],
   "source": [
    "model.best_score_"
   ]
  },
  {
   "cell_type": "markdown",
   "metadata": {},
   "source": [
    "### 9. Export your model as a pickle file"
   ]
  },
  {
   "cell_type": "code",
   "execution_count": 59,
   "metadata": {},
   "outputs": [
    {
     "name": "stdout",
     "output_type": "stream",
     "text": [
      "                        precision    recall  f1-score   support\n",
      "\n",
      "               related       0.77      0.93      0.84      3993\n",
      "               request       0.40      0.22      0.28       883\n",
      "                 offer       0.00      0.00      0.00        24\n",
      "           aid_related       0.45      0.37      0.41      2150\n",
      "          medical_help       0.00      0.00      0.00       419\n",
      "      medical_products       0.00      0.00      0.00       256\n",
      "     search_and_rescue       0.00      0.00      0.00       138\n",
      "              security       0.00      0.00      0.00       108\n",
      "              military       0.00      0.00      0.00       171\n",
      "           child_alone       0.00      0.00      0.00         0\n",
      "                 water       0.12      0.00      0.01       316\n",
      "                  food       0.26      0.04      0.07       564\n",
      "               shelter       0.20      0.01      0.02       468\n",
      "              clothing       0.00      0.00      0.00        85\n",
      "                 money       0.00      0.00      0.00       120\n",
      "        missing_people       0.00      0.00      0.00        67\n",
      "              refugees       0.25      0.01      0.01       200\n",
      "                 death       0.00      0.00      0.00       243\n",
      "             other_aid       0.14      0.01      0.02       671\n",
      "infrastructure_related       0.07      0.00      0.01       347\n",
      "             transport       0.00      0.00      0.00       255\n",
      "             buildings       0.20      0.01      0.01       271\n",
      "           electricity       0.00      0.00      0.00       112\n",
      "                 tools       0.00      0.00      0.00        28\n",
      "             hospitals       0.00      0.00      0.00        60\n",
      "                 shops       0.00      0.00      0.00        17\n",
      "           aid_centers       0.00      0.00      0.00        64\n",
      "  other_infrastructure       0.00      0.00      0.00       242\n",
      "       weather_related       0.47      0.28      0.35      1456\n",
      "                floods       0.18      0.01      0.02       448\n",
      "                 storm       0.48      0.13      0.20       507\n",
      "                  fire       0.00      0.00      0.00        54\n",
      "            earthquake       0.63      0.19      0.29       475\n",
      "                  cold       0.00      0.00      0.00       101\n",
      "         other_weather       0.00      0.00      0.00       265\n",
      "         direct_report       0.37      0.19      0.26      1001\n",
      "\n",
      "             micro avg       0.61      0.33      0.43     16579\n",
      "             macro avg       0.14      0.07      0.08     16579\n",
      "          weighted avg       0.40      0.33      0.34     16579\n",
      "           samples avg       0.61      0.37      0.39     16579\n",
      "\n",
      "Accuracy: 0.922665225316885\n"
     ]
    }
   ],
   "source": [
    "y_pred = model.predict(X_test)\n",
    "print(classification_report(Y_test.values, y_pred, target_names=category_names))\n",
    "print('Accuracy: {}'.format(np.mean(Y_test.values == y_pred)))\n",
    "\n",
    "\n",
    "with open('clf.pickle', 'wb') as f:\n",
    "    pickle.dump(model, f)"
   ]
  },
  {
   "cell_type": "markdown",
   "metadata": {},
   "source": [
    "### 10. Use this notebook to complete `train.py`\n",
    "Use the template file attached in the Resources folder to write a script that runs the steps above to create a database and export a model based on a new dataset specified by the user."
   ]
  },
  {
   "cell_type": "code",
   "execution_count": null,
   "metadata": {},
   "outputs": [],
   "source": []
  }
 ],
 "metadata": {
  "kernelspec": {
   "display_name": "Python 3",
   "language": "python",
   "name": "python3"
  },
  "language_info": {
   "codemirror_mode": {
    "name": "ipython",
    "version": 3
   },
   "file_extension": ".py",
   "mimetype": "text/x-python",
   "name": "python",
   "nbconvert_exporter": "python",
   "pygments_lexer": "ipython3",
   "version": "3.7.3"
  }
 },
 "nbformat": 4,
 "nbformat_minor": 2
}
