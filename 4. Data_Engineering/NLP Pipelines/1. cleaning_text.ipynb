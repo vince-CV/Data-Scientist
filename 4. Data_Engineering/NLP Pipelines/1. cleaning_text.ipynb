{
 "cells": [
  {
   "cell_type": "markdown",
   "metadata": {},
   "source": [
    "# Cleaning Quiz: Udacity's Course Catalog\n",
    "It's your turn! Udacity's [course catalog page](https://www.udacity.com/courses/all) has changed since the last video was filmed. One notable change is the introduction of  _schools_.\n",
    "\n",
    "In this activity, you're going to perform similar actions with BeautifulSoup to extract the following information from each course listing on the page:\n",
    "1. The course name - e.g. \"Data Analyst\"\n",
    "2. The school the course belongs to - e.g. \"School of Data Science\"\n",
    "\n",
    "**Note: All solution notebooks can be found by clicking on the Jupyter icon on the top left of this workspace.**"
   ]
  },
  {
   "cell_type": "markdown",
   "metadata": {},
   "source": [
    "### Step 1: Get text from Udacity's course catalog web page\n",
    "You can use the `requests` library to do this.\n",
    "\n",
    "Outputting all the javascript, CSS, and text may overload the space available to load this notebook, so we omit a print statement here."
   ]
  },
  {
   "cell_type": "code",
   "execution_count": 3,
   "metadata": {},
   "outputs": [],
   "source": [
    "# import statements\n",
    "import requests\n",
    "from bs4 import BeautifulSoup"
   ]
  },
  {
   "cell_type": "code",
   "execution_count": 4,
   "metadata": {},
   "outputs": [],
   "source": [
    "# fetch web page\n",
    "r = requests.get(\"https://www.udacity.com/courses/all\")"
   ]
  },
  {
   "cell_type": "markdown",
   "metadata": {},
   "source": [
    "### Step 2: Use BeautifulSoup to remove HTML tags\n",
    "Use `\"lxml\"` rather than `\"html5lib\"`.\n",
    "\n",
    "Again, printing this entire result may overload the space available to load this notebook, so we omit a print statement here."
   ]
  },
  {
   "cell_type": "code",
   "execution_count": 5,
   "metadata": {},
   "outputs": [],
   "source": [
    "soup = BeautifulSoup(r.text, \"lxml\")"
   ]
  },
  {
   "cell_type": "markdown",
   "metadata": {},
   "source": [
    "### Step 3: Find all course summaries\n",
    "Use the BeautifulSoup's `find_all` method to select based on tag type and class name. Just ike in the video, you can right click on the item, and click \"Inspect\" to view its html on a web page."
   ]
  },
  {
   "cell_type": "code",
   "execution_count": 6,
   "metadata": {},
   "outputs": [
    {
     "name": "stdout",
     "output_type": "stream",
     "text": [
      "Number of Courses: 243\n"
     ]
    }
   ],
   "source": [
    "# Find all course summaries\n",
    "summaries = soup.find_all(\"div\", {\"class\":\"course-summary-card\"})\n",
    "print('Number of Courses:', len(summaries))"
   ]
  },
  {
   "cell_type": "markdown",
   "metadata": {},
   "source": [
    "### Step 4: Inspect the first summary to find selectors for the course name and school\n",
    "Tip: `.prettify()` is a super helpful method BeautifulSoup provides to output html in a nicely indented form! Make sure to use `print()` to ensure whitespace is displayed properly."
   ]
  },
  {
   "cell_type": "code",
   "execution_count": 7,
   "metadata": {},
   "outputs": [
    {
     "name": "stdout",
     "output_type": "stream",
     "text": [
      "<div _ngcontent-sc197=\"\" class=\"course-summary-card row row-gap-medium catalog-card nanodegree-card ng-star-inserted\">\n",
      " <ir-catalog-card _ngcontent-sc197=\"\" _nghost-sc200=\"\">\n",
      "  <div _ngcontent-sc200=\"\" class=\"card-wrapper is-collapsed\">\n",
      "   <div _ngcontent-sc200=\"\" class=\"card__inner card mb-0\">\n",
      "    <div _ngcontent-sc200=\"\" class=\"card__inner--upper\">\n",
      "     <div _ngcontent-sc200=\"\" class=\"image_wrapper hidden-md-down\">\n",
      "      <a _ngcontent-sc200=\"\" href=\"/course/intel-edge-ai-for-iot-developers-nanodegree--nd131\">\n",
      "       <!-- -->\n",
      "       <div _ngcontent-sc200=\"\" class=\"image-container ng-star-inserted\" style=\"background-image:url(https://d20vrrgs8k4bvw.cloudfront.net/images/degrees/nd131/catalog+image+nd131.jpg);\">\n",
      "        <div _ngcontent-sc200=\"\" class=\"image-overlay\">\n",
      "        </div>\n",
      "       </div>\n",
      "      </a>\n",
      "      <!-- -->\n",
      "     </div>\n",
      "     <div _ngcontent-sc200=\"\" class=\"card-content\">\n",
      "      <!-- -->\n",
      "      <span _ngcontent-sc200=\"\" class=\"tag tag--new card ng-star-inserted\">\n",
      "       New\n",
      "      </span>\n",
      "      <!-- -->\n",
      "      <div _ngcontent-sc200=\"\" class=\"category-wrapper\">\n",
      "       <span _ngcontent-sc200=\"\" class=\"mobile-icon\">\n",
      "       </span>\n",
      "       <!-- -->\n",
      "       <h4 _ngcontent-sc200=\"\" class=\"category ng-star-inserted\">\n",
      "        School of Artificial Intelligence\n",
      "       </h4>\n",
      "      </div>\n",
      "      <h3 _ngcontent-sc200=\"\" class=\"card-heading\">\n",
      "       <a _ngcontent-sc200=\"\" class=\"capitalize\" href=\"/course/intel-edge-ai-for-iot-developers-nanodegree--nd131\">\n",
      "        Intel® Edge AI for IoT Developers\n",
      "       </a>\n",
      "      </h3>\n",
      "      <div _ngcontent-sc200=\"\" class=\"right-sub\">\n",
      "       <!-- -->\n",
      "       <div _ngcontent-sc200=\"\" class=\"skills ng-star-inserted\">\n",
      "        <h4 _ngcontent-sc200=\"\">\n",
      "         Skills Covered\n",
      "        </h4>\n",
      "        <span _ngcontent-sc200=\"\" class=\"truncate-content\">\n",
      "         <!-- -->\n",
      "         <span _ngcontent-sc200=\"\" class=\"ng-star-inserted\">\n",
      "          Edge AI,\n",
      "         </span>\n",
      "         <span _ngcontent-sc200=\"\" class=\"ng-star-inserted\">\n",
      "          Computer Vision,\n",
      "         </span>\n",
      "         <span _ngcontent-sc200=\"\" class=\"ng-star-inserted\">\n",
      "          Deep Learning,\n",
      "         </span>\n",
      "         <span _ngcontent-sc200=\"\" class=\"ng-star-inserted\">\n",
      "          Edge Computing,\n",
      "         </span>\n",
      "         <span _ngcontent-sc200=\"\" class=\"ng-star-inserted\">\n",
      "          AI Modeling,\n",
      "         </span>\n",
      "         <span _ngcontent-sc200=\"\" class=\"ng-star-inserted\">\n",
      "          Deep Neural Networks (DNN),\n",
      "         </span>\n",
      "         <span _ngcontent-sc200=\"\" class=\"ng-star-inserted\">\n",
      "          Convolutional Neural Networks (CNN),\n",
      "         </span>\n",
      "         <span _ngcontent-sc200=\"\" class=\"ng-star-inserted\">\n",
      "          IoT,\n",
      "         </span>\n",
      "         <span _ngcontent-sc200=\"\" class=\"ng-star-inserted\">\n",
      "          Intel® Distribution of OpenVINO™ Toolkit,\n",
      "         </span>\n",
      "         <span _ngcontent-sc200=\"\" class=\"ng-star-inserted\">\n",
      "          Intel® DevCloud for the Edge\n",
      "         </span>\n",
      "        </span>\n",
      "       </div>\n",
      "       <!-- -->\n",
      "       <div _ngcontent-sc200=\"\" class=\"hidden-sm-down ng-star-inserted\">\n",
      "        <h4 _ngcontent-sc200=\"\">\n",
      "         In Collaboration With\n",
      "        </h4>\n",
      "        <span _ngcontent-sc200=\"\" class=\"truncate-content\">\n",
      "         <!-- -->\n",
      "         <span _ngcontent-sc200=\"\" class=\"ng-star-inserted\">\n",
      "          Intel\n",
      "         </span>\n",
      "        </span>\n",
      "       </div>\n",
      "       <div _ngcontent-sc200=\"\" class=\"hidden-md-up level\">\n",
      "        <span _ngcontent-sc200=\"\" class=\"course-level course-level-advanced\" classname=\"course-level course-level-advanced\">\n",
      "        </span>\n",
      "        <span _ngcontent-sc200=\"\" class=\"capitalize\">\n",
      "         advanced\n",
      "        </span>\n",
      "       </div>\n",
      "      </div>\n",
      "     </div>\n",
      "    </div>\n",
      "    <div _ngcontent-sc200=\"\" class=\"card__inner--lower hidden-sm-down\">\n",
      "     <div _ngcontent-sc200=\"\" class=\"left uppercase blue expander pointer\">\n",
      "      <!-- -->\n",
      "      <span _ngcontent-sc200=\"\" class=\"ng-star-inserted\">\n",
      "       Program Details\n",
      "      </span>\n",
      "      <!-- -->\n",
      "     </div>\n",
      "     <div _ngcontent-sc200=\"\" class=\"right\">\n",
      "      <!-- -->\n",
      "      <span _ngcontent-sc200=\"\" class=\"caption text-right level ng-star-inserted\">\n",
      "       <span _ngcontent-sc200=\"\" class=\"course-level course-level-advanced\" classname=\"course-level course-level-advanced\">\n",
      "       </span>\n",
      "       <span _ngcontent-sc200=\"\" class=\"capitalize\">\n",
      "        advanced\n",
      "       </span>\n",
      "      </span>\n",
      "     </div>\n",
      "    </div>\n",
      "   </div>\n",
      "   <div _ngcontent-sc200=\"\" class=\"card__expander\">\n",
      "    <div _ngcontent-sc200=\"\" class=\"card__expander--summary mb-1\">\n",
      "     <!-- -->\n",
      "     <span _ngcontent-sc200=\"\" class=\"ng-star-inserted\">\n",
      "      Lead the development of cutting-edge Edge AI applications that are the future of the Internet of Things. Leverage the Intel® Distribution of OpenVINO™ Toolkit to fast-track development of high-performance computer vision and deep learning inference applications.\n",
      "     </span>\n",
      "    </div>\n",
      "    <hr _ngcontent-sc200=\"\"/>\n",
      "    <div _ngcontent-sc200=\"\" class=\"card__expander--details\">\n",
      "     <div _ngcontent-sc200=\"\" class=\"rating\">\n",
      "      <!-- -->\n",
      "     </div>\n",
      "     <a _ngcontent-sc200=\"\" class=\"button--primary btn\" href=\"/course/intel-edge-ai-for-iot-developers-nanodegree--nd131\">\n",
      "      Learn More\n",
      "     </a>\n",
      "    </div>\n",
      "   </div>\n",
      "  </div>\n",
      " </ir-catalog-card>\n",
      " <!-- -->\n",
      "</div>\n",
      "\n"
     ]
    }
   ],
   "source": [
    "# print the first summary in summaries\n",
    "print(summaries[0].prettify())"
   ]
  },
  {
   "cell_type": "markdown",
   "metadata": {},
   "source": [
    "Look for selectors contain the the courses title and school name text you want to extract. Then, use the `select_one` method on the summary object to pull out the html with those selectors. Afterwards, don't forget to do some extra cleaning to isolate the names (get rid of unnecessary html), as you saw in the last video."
   ]
  },
  {
   "cell_type": "code",
   "execution_count": 8,
   "metadata": {},
   "outputs": [
    {
     "data": {
      "text/plain": [
       "'Intel® Edge AI for IoT Developers'"
      ]
     },
     "execution_count": 8,
     "metadata": {},
     "output_type": "execute_result"
    }
   ],
   "source": [
    "# Extract course title\n",
    "summaries[0].select_one(\"h3\").get_text().strip()"
   ]
  },
  {
   "cell_type": "code",
   "execution_count": 9,
   "metadata": {},
   "outputs": [
    {
     "data": {
      "text/plain": [
       "'School of Artificial Intelligence'"
      ]
     },
     "execution_count": 9,
     "metadata": {},
     "output_type": "execute_result"
    }
   ],
   "source": [
    "# Extract school\n",
    "summaries[0].select_one(\"h4\").get_text().strip()"
   ]
  },
  {
   "cell_type": "markdown",
   "metadata": {},
   "source": [
    "### Step 5: Collect names and schools of ALL course listings\n",
    "Reuse your code from the previous step, but now in a loop to extract the name and school from every course summary in `summaries`!"
   ]
  },
  {
   "cell_type": "code",
   "execution_count": 10,
   "metadata": {},
   "outputs": [],
   "source": [
    "courses = []\n",
    "\n",
    "for summary in summaries:\n",
    "    # append name and school of each summary to courses list\n",
    "    title = summary.select_one(\"h3\").get_text().strip()\n",
    "    school = summary.select_one(\"h4\").get_text().strip()\n",
    "    courses.append((title, school))"
   ]
  },
  {
   "cell_type": "code",
   "execution_count": 11,
   "metadata": {},
   "outputs": [
    {
     "name": "stdout",
     "output_type": "stream",
     "text": [
      "243 course summaries found. Sample:\n"
     ]
    },
    {
     "data": {
      "text/plain": [
       "[('Intel® Edge AI for IoT Developers', 'School of Artificial Intelligence'),\n",
       " ('Growth and Acquisition Strategy', 'School of Business'),\n",
       " ('Growth Product Manager', 'School of Business'),\n",
       " ('Product Manager', 'School of Business'),\n",
       " ('AI for Business Leaders', 'School of Business'),\n",
       " ('Intro to Machine Learning with TensorFlow',\n",
       "  'School of Artificial Intelligence'),\n",
       " ('UX Designer', 'School of Business'),\n",
       " ('Data Streaming', 'School of Data Science'),\n",
       " ('Front End Web Developer', 'School of Programming'),\n",
       " ('Full Stack Web Developer', 'School of Programming'),\n",
       " ('Java Developer', 'School of Programming'),\n",
       " ('AI Product Manager', 'School of Artificial Intelligence'),\n",
       " ('Sensor Fusion Engineer', 'School of Autonomous Systems'),\n",
       " ('Data Visualization', 'School of Data Science'),\n",
       " ('Cloud Developer', 'School of Cloud Computing'),\n",
       " ('Cloud DevOps Engineer', 'School of Cloud Computing'),\n",
       " ('Intro to Machine Learning with PyTorch',\n",
       "  'School of Artificial Intelligence'),\n",
       " ('C++', 'School of Autonomous Systems'),\n",
       " ('Data Structures and Algorithms', 'School of Programming'),\n",
       " ('Programming for Data Science with R', 'School of Data Science')]"
      ]
     },
     "execution_count": 11,
     "metadata": {},
     "output_type": "execute_result"
    }
   ],
   "source": [
    "# display results\n",
    "print(len(courses), \"course summaries found. Sample:\")\n",
    "courses[:20]"
   ]
  },
  {
   "cell_type": "code",
   "execution_count": null,
   "metadata": {},
   "outputs": [],
   "source": []
  }
 ],
 "metadata": {
  "kernelspec": {
   "display_name": "Python 3",
   "language": "python",
   "name": "python3"
  },
  "language_info": {
   "codemirror_mode": {
    "name": "ipython",
    "version": 3
   },
   "file_extension": ".py",
   "mimetype": "text/x-python",
   "name": "python",
   "nbconvert_exporter": "python",
   "pygments_lexer": "ipython3",
   "version": "3.7.3"
  }
 },
 "nbformat": 4,
 "nbformat_minor": 2
}
