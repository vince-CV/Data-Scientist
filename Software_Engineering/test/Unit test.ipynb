{
 "cells": [
  {
   "cell_type": "markdown",
   "metadata": {},
   "source": [
    "## 单元测试\n",
    "\n",
    "希望以可重复和自动化的方式测试功能。理想情况下，运行一个测试程序进行所有的单元测试，该程序清楚地告诉我们哪些失败以及哪些成功。幸运的是，Python 中有很多创建有效单元测试的工具！<br>\n",
    "\n",
    "#### 单元测试的优势和不足:\n",
    "单元测试的优点是，它们与程序的其余部分隔离，因此不涉及任何依赖性。它们不需要访问数据库、API 或其他外部信息源。但是，通过单元测试并不总是足够证明程序成功运行。为了表明程序的所有部分正确地相互协作，正确地进行通信和传输，需要使用集成测试。在本课中，我们将重点关注单元测试，但是当开始构建更大的程序时，你也会需要使用集成测试。"
   ]
  },
  {
   "cell_type": "markdown",
   "metadata": {},
   "source": [
    "#### Tool: pytest\n",
    "\n",
    "在终端或命令行中运行 pip install -U pytest 安装 pytest。\n",
    "\n",
    "> 创建一个测试文件，文件名以 test_ 开头;<br>\n",
    "> 在测试文件中创建单元测试函数，这些函数也要以 test_ 开头;<br>\n",
    "> 在终端中，测试文件所在目录下输入 pytest，该工具就可以为你检测这些测试！<br>\n",
    "\n",
    "test_ 前缀是默认值，如果你想要修改，可以参考 pytest 设置。<br>\n",
    "\n",
    "在测试输出中，句点表示成功的单元测试，F 表示失败的单元测试。因为你能看到的只是哪些测试函数失败了，所以为每个测试对应一个 assert 语句是比较明智的。否则无法确切知道有多少测试失败，哪些测试失败。<br>\n",
    "\n",
    "失败的 assert 语句不会导致测试停止，但如果测试代码中有语法错误，测试程序会停止。"
   ]
  },
  {
   "cell_type": "markdown",
   "metadata": {},
   "source": [
    "#### 测试驱动开发和数据科学\n",
    "测试驱动开发（Test Driven Development，缩写为 TDD）：在编写需要被测试的代码之前先编写测试用例。测试最初会失败，而测试一旦通过，就可以了解到自己已经完成任务。<br>\n",
    "在开始编写函数之前，编写能够检查你能想到的所有不同场景和边缘情况的测试。这样，当你开始实现函数时，可以运行此测试，针对所有你可以想到的调整函数的方式，获得代码是否有效的即时反馈。<br>\n",
    "在重构或添加代码时，测试可以帮助你确保其余代码不会中断。测试还有助于确保你的函数行为可重复，无论外部参数（如硬件和时间）如何。"
   ]
  },
  {
   "cell_type": "code",
   "execution_count": null,
   "metadata": {},
   "outputs": [],
   "source": []
  }
 ],
 "metadata": {
  "kernelspec": {
   "display_name": "Python 3",
   "language": "python",
   "name": "python3"
  },
  "language_info": {
   "codemirror_mode": {
    "name": "ipython",
    "version": 3
   },
   "file_extension": ".py",
   "mimetype": "text/x-python",
   "name": "python",
   "nbconvert_exporter": "python",
   "pygments_lexer": "ipython3",
   "version": "3.7.3"
  }
 },
 "nbformat": 4,
 "nbformat_minor": 2
}
